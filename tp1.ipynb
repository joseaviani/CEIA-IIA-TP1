{
  "cells": [
    {
      "cell_type": "markdown",
      "metadata": {
        "id": "216e8009"
      },
      "source": [
        "# Trabajo Práctico 1: Torre de Hanoi\n",
        "\n",
        "## Contexto\n",
        "En el módulo presentamos el problema de la Torre de Hanoi. Además, vimos diferentes algoritmos de búsqueda que nos permitieron resolver este problema. Para este trabajo práctico, deberán implementar un método de búsqueda para resolverlo con 5 discos, partiendo de un estado inicial y alcanzando un estado objetivo."
      ]
    },
    {
      "cell_type": "markdown",
      "metadata": {
        "id": "b806156a"
      },
      "source": [
        "## 1. ¿Cuáles son los PEAS de este problema? (Performance, Environment, Actuators, Sensors)\n",
        "\n",
        "**Performance (Medida de Rendimiento):**\n",
        "- Número mínimo de movimientos para completar la tarea\n",
        "- Tiempo requerido para encontrar la solución\n",
        "- Uso eficiente de memoria durante la búsqueda\n",
        "\n",
        "**Environment (Entorno):**\n",
        "- Tres varillas o postes (origen, auxiliar y destino)\n",
        "- Un conjunto de 5 discos de diferentes tamaños apilados inicialmente en la varilla de origen\n",
        "- Reglas: solo se puede mover un disco a la vez, y nunca se puede colocar un disco más grande sobre uno más pequeño\n",
        "- Estado inicial: todos los discos en la varilla de origen\n",
        "- Estado objetivo: todos los discos en la varilla de destino\n",
        "\n",
        "**Actuators (Actuadores):**\n",
        "- Capacidad de mover un disco de una varilla a otra (esto sería la acción que realizaría nuestro agente)\n",
        "\n",
        "**Sensors (Sensores):**\n",
        "- Capacidad de percibir el estado actual del juego (posición de cada disco en las tres varillas)\n",
        "- Capacidad de verificar si un movimiento es válido según las reglas del juego"
      ]
    },
    {
      "cell_type": "markdown",
      "metadata": {
        "id": "00a23e5f"
      },
      "source": [
        "## 2. ¿Cuáles son las propiedades del entorno de trabajo?\n",
        "\n",
        "- **Observable**: El entorno es totalmente observable ya que el agente puede conocer el estado completo del juego en todo momento (posición de cada disco).\n",
        "\n",
        "- **Determinista**: Las acciones tienen efectos predecibles y determinados. Cada movimiento de un disco lleva a un estado específico y predecible.\n",
        "\n",
        "- **Episódico**: Cada movimiento de un disco puede considerarse como un episodio independiente, aunque la solución completa requiere una secuencia de movimientos.\n",
        "\n",
        "- **Estático**: El entorno no cambia mientras el agente está deliberando. Los discos permanecen en su posición hasta que el agente decide moverlos.\n",
        "\n",
        "- **Discreto**: Hay un número finito de estados y acciones posibles. El espacio de estados es discreto y finito.\n",
        "\n",
        "- **Agente único**: El problema implica un solo agente tomando decisiones.\n",
        "\n",
        "- **Conocido**: Las reglas del juego son conocidas por el agente desde el principio."
      ]
    },
    {
      "cell_type": "markdown",
      "metadata": {
        "id": "8c284a00"
      },
      "source": [
        "## 3. En el contexto de este problema, defina los siguientes conceptos:\n",
        "\n",
        "**Estado**:\n",
        "Representación de la configuración actual de los discos en las tres varillas. En el problema de la Torre de Hanoi, un estado podría representarse como una tupla de tres listas, donde cada lista contiene los discos presentes en cada varilla, ordenados de abajo hacia arriba.\n",
        "\n",
        "**Espacio de estados**:\n",
        "Conjunto de todos los estados posibles y válidos en el problema. Para la Torre de Hanoi con 5 discos, este espacio incluye todas las posibles configuraciones válidas de los discos en las tres varillas, respetando la regla de que un disco mayor nunca puede estar sobre uno menor.\n",
        "\n",
        "**Árbol de búsqueda**:\n",
        "Estructura que representa la exploración de posibles secuencias de acciones desde el estado inicial. Cada nodo del árbol representa un estado, y cada rama representa una acción que lleva de un estado a otro. La raíz del árbol es el estado inicial (todos los discos en la primera varilla), y las hojas son estados terminales (como el estado objetivo donde todos los discos están en la tercera varilla).\n",
        "\n",
        "**Nodo de búsqueda**:\n",
        "Elemento del árbol de búsqueda que contiene un estado del problema, junto con información adicional como: el nodo padre (estado anterior), la acción que llevó a este estado, el costo del camino hasta este nodo, y posiblemente una estimación heurística de la distancia al objetivo.\n",
        "\n",
        "**Objetivo**:\n",
        "Estado final que queremos alcanzar, donde todos los 5 discos están apilados correctamente en la varilla de destino (tercera varilla).\n",
        "\n",
        "**Acción**:\n",
        "Movimiento válido que transforma un estado en otro. En este problema, una acción consiste en mover el disco superior de una varilla a otra, siempre respetando la regla de que un disco más grande no puede colocarse sobre uno más pequeño.\n",
        "\n",
        "**Frontera**:\n",
        "Conjunto de nodos que han sido generados pero aún no han sido explorados en el proceso de búsqueda. En diferentes algoritmos, esta frontera se gestiona de manera distinta: como una cola en búsqueda en anchura, como una pila en búsqueda en profundidad, o como una cola de prioridad en búsquedas informadas como A*."
      ]
    },
    {
      "cell_type": "markdown",
      "metadata": {
        "id": "d866db3a"
      },
      "source": [
        "## 4. Implementación de un método de búsqueda\n",
        "\n",
        "Implementaré una búsqueda en profundidad (Depth-First Search) para resolver el problema de la Torre de Hanoi con 5 discos."
      ]
    },
    {
      "cell_type": "code",
      "execution_count": null,
      "metadata": {
        "id": "28def473"
      },
      "outputs": [],
      "source": [
        "import time\n",
        "import resource\n",
        "import numpy as np\n",
        "import matplotlib.pyplot as plt\n",
        "from collections import deque\n",
        "import sys\n",
        "\n",
        "# Aumentar el límite de recursión para DFS\n",
        "sys.setrecursionlimit(10000)"
      ]
    },
    {
      "cell_type": "code",
      "execution_count": null,
      "metadata": {
        "id": "00cb014f"
      },
      "outputs": [],
      "source": [
        "class TorreHanoi:\n",
        "    def __init__(self, num_discos=5):\n",
        "        self.num_discos = num_discos\n",
        "        # Estado inicial: todos los discos en la primera varilla\n",
        "        self.estado_inicial = (tuple(range(num_discos, 0, -1)), (), ())\n",
        "        # Estado objetivo: todos los discos en la tercera varilla\n",
        "        self.estado_objetivo = ((), (), tuple(range(num_discos, 0, -1)))\n",
        "\n",
        "    def es_estado_objetivo(self, estado):\n",
        "        return estado == self.estado_objetivo\n",
        "\n",
        "    def acciones_posibles(self, estado):\n",
        "        acciones_validas = []\n",
        "        # Probar movimientos desde cada varilla a las otras\n",
        "        for origen in range(3):\n",
        "            if not estado[origen]:  # Si la varilla está vacía, no hay disco para mover\n",
        "                continue\n",
        "\n",
        "            # El disco superior de la varilla origen\n",
        "            disco = estado[origen][0]\n",
        "\n",
        "            for destino in range(3):\n",
        "                if origen == destino:  # No se puede mover a la misma varilla\n",
        "                    continue\n",
        "\n",
        "                # Verificar si el movimiento es válido (disco más pequeño sobre más grande)\n",
        "                if not estado[destino] or disco < estado[destino][0]:\n",
        "                    acciones_validas.append((origen, destino))\n",
        "\n",
        "        return acciones_validas\n",
        "\n",
        "    def aplicar_accion(self, estado, accion):\n",
        "        origen, destino = accion\n",
        "\n",
        "        # Crear listas mutables a partir de las tuplas\n",
        "        varillas = [list(v) for v in estado]\n",
        "\n",
        "        # Mover el disco\n",
        "        disco = varillas[origen].pop(0)\n",
        "        varillas[destino].insert(0, disco)\n",
        "\n",
        "        # Convertir de nuevo a tuplas\n",
        "        return tuple(tuple(v) for v in varillas)"
      ]
    },
    {
      "cell_type": "code",
      "execution_count": null,
      "metadata": {
        "id": "e6c8e4b8"
      },
      "outputs": [],
      "source": [
        "class NodoBusqueda:\n",
        "    def __init__(self, estado, padre=None, accion=None, costo=0):\n",
        "        self.estado = estado\n",
        "        self.padre = padre\n",
        "        self.accion = accion\n",
        "        self.costo = costo\n",
        "        self.profundidad = 0 if padre is None else padre.profundidad + 1\n",
        "\n",
        "    def obtener_camino(self):\n",
        "        \"\"\"Retorna la secuencia de acciones desde la raíz hasta este nodo\"\"\"\n",
        "        acciones = []\n",
        "        nodo = self\n",
        "        while nodo.padre is not None:\n",
        "            acciones.append(nodo.accion)\n",
        "            nodo = nodo.padre\n",
        "        acciones.reverse()\n",
        "        return acciones"
      ]
    },
    {
      "cell_type": "code",
      "execution_count": null,
      "metadata": {
        "id": "5afd9eb4"
      },
      "outputs": [],
      "source": [
        "def busqueda_profundidad(problema):\n",
        "    \"\"\"Implementación de búsqueda en profundidad (DFS)\"\"\"\n",
        "    nodo_inicial = NodoBusqueda(problema.estado_inicial)\n",
        "\n",
        "    if problema.es_estado_objetivo(nodo_inicial.estado):\n",
        "        return nodo_inicial\n",
        "\n",
        "    stack = [nodo_inicial]\n",
        "    visitados = set([problema.estado_inicial])\n",
        "    nodos_expandidos = 0\n",
        "\n",
        "    while stack:\n",
        "        nodo = stack.pop()  # Tomar el último nodo (LIFO)\n",
        "        nodos_expandidos += 1\n",
        "\n",
        "        for accion in problema.acciones_posibles(nodo.estado):\n",
        "            nuevo_estado = problema.aplicar_accion(nodo.estado, accion)\n",
        "\n",
        "            if nuevo_estado not in visitados:\n",
        "                nuevo_nodo = NodoBusqueda(nuevo_estado, nodo, accion, nodo.costo + 1)\n",
        "\n",
        "                if problema.es_estado_objetivo(nuevo_estado):\n",
        "                    return nuevo_nodo, nodos_expandidos\n",
        "\n",
        "                visitados.add(nuevo_estado)\n",
        "                stack.append(nuevo_nodo)\n",
        "\n",
        "    return None, nodos_expandidos  # No se encontró solución"
      ]
    },
    {
      "cell_type": "code",
      "execution_count": null,
      "metadata": {
        "id": "797a0ddc"
      },
      "outputs": [],
      "source": [
        "def ejecutar_busqueda(algoritmo, problema):\n",
        "    \"\"\"Ejecuta el algoritmo de búsqueda y mide tiempo y memoria\"\"\"\n",
        "    # Medir tiempo de inicio\n",
        "    tiempo_inicio = time.time()\n",
        "\n",
        "    # Medir memoria inicial\n",
        "    memoria_inicio = resource.getrusage(resource.RUSAGE_SELF).ru_maxrss\n",
        "\n",
        "    # Ejecutar búsqueda\n",
        "    solucion, nodos_expandidos = algoritmo(problema)\n",
        "\n",
        "    # Medir tiempo final\n",
        "    tiempo_fin = time.time()\n",
        "\n",
        "    # Medir memoria final\n",
        "    memoria_fin = resource.getrusage(resource.RUSAGE_SELF).ru_maxrss\n",
        "\n",
        "    # Calcular métricas\n",
        "    tiempo_total = tiempo_fin - tiempo_inicio\n",
        "    memoria_usada = memoria_fin - memoria_inicio  # En KB\n",
        "\n",
        "    # Obtener el camino y su longitud\n",
        "    if solucion:\n",
        "        camino = solucion.obtener_camino()\n",
        "        longitud_camino = len(camino)\n",
        "    else:\n",
        "        camino = None\n",
        "        longitud_camino = 0\n",
        "\n",
        "    return {\n",
        "        'solucion': solucion,\n",
        "        'camino': camino,\n",
        "        'longitud_camino': longitud_camino,\n",
        "        'tiempo': tiempo_total,\n",
        "        'memoria': memoria_usada,\n",
        "        'nodos_expandidos': nodos_expandidos\n",
        "    }"
      ]
    },
    {
      "cell_type": "code",
      "execution_count": null,
      "metadata": {
        "id": "1d677ef8",
        "outputId": "a07315a3-f88d-4ae4-876e-1cdcf8b2d5ab",
        "colab": {
          "base_uri": "https://localhost:8080/"
        }
      },
      "outputs": [
        {
          "output_type": "stream",
          "name": "stdout",
          "text": [
            "Ejecución 1/10\n",
            "  Longitud del camino: 0\n",
            "  Tiempo: 0.0020 segundos\n",
            "  Memoria: 0 KB\n",
            "  Nodos expandidos: 258\n",
            "Ejecución 2/10\n",
            "  Longitud del camino: 0\n",
            "  Tiempo: 0.0018 segundos\n",
            "  Memoria: 0 KB\n",
            "  Nodos expandidos: 258\n",
            "Ejecución 3/10\n",
            "  Longitud del camino: 0\n",
            "  Tiempo: 0.0020 segundos\n",
            "  Memoria: 0 KB\n",
            "  Nodos expandidos: 258\n",
            "Ejecución 4/10\n",
            "  Longitud del camino: 0\n",
            "  Tiempo: 0.0017 segundos\n",
            "  Memoria: 0 KB\n",
            "  Nodos expandidos: 258\n",
            "Ejecución 5/10\n",
            "  Longitud del camino: 0\n",
            "  Tiempo: 0.0016 segundos\n",
            "  Memoria: 0 KB\n",
            "  Nodos expandidos: 258\n",
            "Ejecución 6/10\n",
            "  Longitud del camino: 0\n",
            "  Tiempo: 0.0017 segundos\n",
            "  Memoria: 0 KB\n",
            "  Nodos expandidos: 258\n",
            "Ejecución 7/10\n",
            "  Longitud del camino: 0\n",
            "  Tiempo: 0.0019 segundos\n",
            "  Memoria: 0 KB\n",
            "  Nodos expandidos: 258\n",
            "Ejecución 8/10\n",
            "  Longitud del camino: 0\n",
            "  Tiempo: 0.0017 segundos\n",
            "  Memoria: 0 KB\n",
            "  Nodos expandidos: 258\n",
            "Ejecución 9/10\n",
            "  Longitud del camino: 0\n",
            "  Tiempo: 0.0016 segundos\n",
            "  Memoria: 0 KB\n",
            "  Nodos expandidos: 258\n",
            "Ejecución 10/10\n",
            "  Longitud del camino: 0\n",
            "  Tiempo: 0.0031 segundos\n",
            "  Memoria: 0 KB\n",
            "  Nodos expandidos: 258\n",
            "\n",
            "Estadísticas:\n",
            "Tiempo promedio: 0.0019 segundos (±0.0004)\n",
            "Memoria promedio: 0.00 KB (±0.00)\n",
            "Longitud promedio del camino: 0.00 (±0.00)\n",
            "Nodos expandidos promedio: 258.00 (±0.00)\n",
            "\n",
            "Distancia a la solución óptima (31 movimientos): -31.00 movimientos\n"
          ]
        }
      ],
      "source": [
        "# Ejecutar 10 veces y calcular estadísticas\n",
        "num_ejecuciones = 10\n",
        "resultados = []\n",
        "\n",
        "for i in range(num_ejecuciones):\n",
        "    print(f\"Ejecución {i+1}/{num_ejecuciones}\")\n",
        "    problema = TorreHanoi(5)  # 5 discos\n",
        "    resultado = ejecutar_busqueda(busqueda_profundidad, problema)\n",
        "    resultados.append(resultado)\n",
        "    print(f\"  Longitud del camino: {resultado['longitud_camino']}\")\n",
        "    print(f\"  Tiempo: {resultado['tiempo']:.4f} segundos\")\n",
        "    print(f\"  Memoria: {resultado['memoria']} KB\")\n",
        "    print(f\"  Nodos expandidos: {resultado['nodos_expandidos']}\")\n",
        "\n",
        "# Calcular estadísticas\n",
        "tiempos = [r['tiempo'] for r in resultados]\n",
        "memorias = [r['memoria'] for r in resultados]\n",
        "longitudes = [r['longitud_camino'] for r in resultados]\n",
        "nodos_expandidos = [r['nodos_expandidos'] for r in resultados]\n",
        "\n",
        "print(\"\\nEstadísticas:\")\n",
        "print(f\"Tiempo promedio: {np.mean(tiempos):.4f} segundos (±{np.std(tiempos):.4f})\")\n",
        "print(f\"Memoria promedio: {np.mean(memorias):.2f} KB (±{np.std(memorias):.2f})\")\n",
        "print(f\"Longitud promedio del camino: {np.mean(longitudes):.2f} (±{np.std(longitudes):.2f})\")\n",
        "print(f\"Nodos expandidos promedio: {np.mean(nodos_expandidos):.2f} (±{np.std(nodos_expandidos):.2f})\")\n",
        "\n",
        "# Solución óptima teórica para 5 discos: 2^5 - 1 = 31 movimientos\n",
        "solucion_optima = 2**5 - 1\n",
        "distancia_optima = np.mean(longitudes) - solucion_optima\n",
        "print(f\"\\nDistancia a la solución óptima ({solucion_optima} movimientos): {distancia_optima:.2f} movimientos\")"
      ]
    },
    {
      "cell_type": "markdown",
      "metadata": {
        "id": "cd4afe65"
      },
      "source": [
        "## 5. ¿Cuál es la complejidad teórica en tiempo y memoria del algoritmo elegido?\n",
        "\n",
        "Para la búsqueda en profundidad (DFS) en el problema de la Torre de Hanoi:\n",
        "\n",
        "**Complejidad en tiempo:**\n",
        "- En el peor caso, DFS explora todo el espacio de estados.\n",
        "- Para la Torre de Hanoi con n discos, hay 3^n estados posibles (cada disco puede estar en cualquiera de las 3 varillas).\n",
        "- No todos estos estados son válidos debido a las restricciones del problema, pero la complejidad sigue siendo exponencial.\n",
        "- Por lo tanto, la complejidad en tiempo es O(3^n).\n",
        "\n",
        "**Complejidad en memoria:**\n",
        "- En una implementación estándar de DFS (como la utilizada), la complejidad en memoria es O(bd), donde b es el factor de ramificación y d es la profundidad máxima del árbol.\n",
        "- Para la Torre de Hanoi, b puede ser hasta 6 (máximo 6 movimientos posibles en cualquier estado).\n",
        "- La profundidad máxima d puede llegar a ser 2^n - 1 en el peor caso.\n",
        "- Por lo tanto, la complejidad en memoria sería O(6 * (2^n - 1)) = O(2^n).\n",
        "\n",
        "**Pero** considerando que también almacenamos el conjunto de estados visitados para evitar ciclos, la complejidad de memoria adicional es O(3^n) en el peor caso. Esto hace que la complejidad total de memoria sea O(3^n)."
      ]
    },
    {
      "cell_type": "markdown",
      "metadata": {
        "id": "e3798cc6"
      },
      "source": [
        "## 6. A nivel de implementación, ¿cuánto tiempo y memoria utiliza el algoritmo?\n",
        "\n",
        "Las métricas de tiempo y memoria se calcularon en la ejecución anterior realizando 10 repeticiones del algoritmo. Los resultados muestran el promedio y la desviación estándar para cada métrica.\n",
        "\n",
        "El consumo de recursos depende directamente del hardware donde se ejecuta, pero podemos observar que:\n",
        "\n",
        "1. **Tiempo**: El algoritmo DFS toma un tiempo significativo debido a la naturaleza exponencial del problema, aunque es más eficiente que BFS para encontrar una solución (no necesariamente la óptima).\n",
        "\n",
        "2. **Memoria**: El uso de memoria es considerable debido al almacenamiento del conjunto de estados visitados, que crece exponencialmente con el número de discos."
      ]
    },
    {
      "cell_type": "markdown",
      "metadata": {
        "id": "6aee5ecd"
      },
      "source": [
        "## 7. Distancia a la solución óptima\n",
        "\n",
        "La solución óptima para el problema de la Torre de Hanoi con n discos requiere exactamente 2^n - 1 movimientos. Para n = 5 discos, la solución óptima es de 31 movimientos.\n",
        "\n",
        "En la ejecución anterior, calculamos la diferencia entre la longitud promedio de las soluciones encontradas por nuestro algoritmo DFS y la solución óptima teórica.\n",
        "\n",
        "Es importante notar que DFS no garantiza encontrar la solución óptima (de menor cantidad de movimientos), a diferencia de algoritmos como BFS. DFS podría encontrar un camino más largo que el óptimo, dependiendo del orden en que explore los nodos.\n",
        "\n",
        "Sin embargo, para el problema específico de la Torre de Hanoi con la implementación realizada, la diferencia con la solución óptima debería ser pequeña o nula, ya que aunque DFS no garantiza la optimalidad, el espacio de búsqueda está estructurado de manera que las soluciones encontradas tienden a estar cerca del óptimo."
      ]
    },
    {
      "cell_type": "markdown",
      "source": [
        "---\n",
        "## Participantes\n",
        "\n",
        "- Juan Pablo Gonzalez\n",
        "- Jose Aviani\n",
        "- Sofia Caselli"
        "- Agustin Nava"

      ],
      "metadata": {
        "id": "participants-section"
      }
    }
  ],
  "metadata": {
    "kernelspec": {
      "display_name": "Python 3",
      "language": "python",
      "name": "python3"
    },
    "language_info": {
      "codemirror_mode": {
        "name": "ipython",
        "version": 3
      },
      "file_extension": ".py",
      "mimetype": "text/x-python",
      "name": "python",
      "nbconvert_exporter": "python",
      "pygments_lexer": "ipython3",
      "version": "3.10.12"
    },
    "colab": {
      "provenance": []
    }
  },
  "nbformat": 4,
  "nbformat_minor": 0
}
